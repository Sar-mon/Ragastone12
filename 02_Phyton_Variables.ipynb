{
  "nbformat": 4,
  "nbformat_minor": 0,
  "metadata": {
    "colab": {
      "provenance": [],
      "authorship_tag": "ABX9TyNrIn0O3lW/3Pfo0Xl5AE3J",
      "include_colab_link": true
    },
    "kernelspec": {
      "name": "python3",
      "display_name": "Python 3"
    },
    "language_info": {
      "name": "python"
    }
  },
  "cells": [
    {
      "cell_type": "markdown",
      "metadata": {
        "id": "view-in-github",
        "colab_type": "text"
      },
      "source": [
        "<a href=\"https://colab.research.google.com/github/Sar-mon/Ragastone12/blob/main/02_Phyton_Variables.ipynb\" target=\"_parent\"><img src=\"https://colab.research.google.com/assets/colab-badge.svg\" alt=\"Open In Colab\"/></a>"
      ]
    },
    {
      "cell_type": "markdown",
      "source": [
        "# **What is the variable?**\n",
        "## Something that store value\n"
      ],
      "metadata": {
        "id": "_nj8WnT-Q4nG"
      }
    },
    {
      "cell_type": "code",
      "source": [
        "# Example as calculator\n",
        "a = 3\n",
        "b = 4\n",
        "print(a+b)"
      ],
      "metadata": {
        "colab": {
          "base_uri": "https://localhost:8080/"
        },
        "id": "DvCKeDQbRSd9",
        "outputId": "03b8f379-3e22-4eda-c457-36aa3b6f7fa3"
      },
      "execution_count": 5,
      "outputs": [
        {
          "output_type": "stream",
          "name": "stdout",
          "text": [
            "7\n"
          ]
        }
      ]
    },
    {
      "cell_type": "code",
      "source": [
        "#Chain assingment 1\n",
        "\n",
        "a, b= 3, 4\n",
        "print(a+b)\n"
      ],
      "metadata": {
        "colab": {
          "base_uri": "https://localhost:8080/"
        },
        "id": "HOsgiCMvSain",
        "outputId": "035077e5-54a0-481c-9163-da21c876146e"
      },
      "execution_count": 6,
      "outputs": [
        {
          "output_type": "stream",
          "name": "stdout",
          "text": [
            "7\n"
          ]
        }
      ]
    },
    {
      "cell_type": "code",
      "source": [
        "#Chain assingment  2\n",
        "x=y=z=100\n",
        "print(x,y,z)"
      ],
      "metadata": {
        "colab": {
          "base_uri": "https://localhost:8080/"
        },
        "id": "-AnfxBW0S99T",
        "outputId": "ec78f396-6e03-41fb-bd4e-48c721085ca6"
      },
      "execution_count": 17,
      "outputs": [
        {
          "output_type": "stream",
          "name": "stdout",
          "text": [
            "100 100 100\n"
          ]
        }
      ]
    },
    {
      "cell_type": "markdown",
      "source": [
        "# **3.Delete and clear**\n"
      ],
      "metadata": {
        "id": "tESJlzqxTahe"
      }
    },
    {
      "cell_type": "code",
      "source": [
        "# DElete x and y\n",
        "del x, y"
      ],
      "metadata": {
        "id": "wwvsMySRTp6u"
      },
      "execution_count": 18,
      "outputs": []
    },
    {
      "cell_type": "code",
      "source": [
        "# Erase all cariable\n",
        "%reset"
      ],
      "metadata": {
        "colab": {
          "base_uri": "https://localhost:8080/"
        },
        "id": "C6klxxlLUSVv",
        "outputId": "85c31974-7976-41b0-c392-fe743f3aa6cf"
      },
      "execution_count": 19,
      "outputs": [
        {
          "name": "stdout",
          "output_type": "stream",
          "text": [
            "Once deleted, variables cannot be recovered. Proceed (y/[n])? y\n"
          ]
        }
      ]
    },
    {
      "cell_type": "markdown",
      "source": [
        "# PRACTICE\n",
        "    "
      ],
      "metadata": {
        "id": "cxIvvPZhUiKA"
      }
    },
    {
      "cell_type": "code",
      "source": [
        "# Practce\n",
        "## Approximate the number 15.476352489\n",
        "# to 1, 2, 3..., 8 decimals and print the results\n",
        "\n",
        "# Use the variables\n",
        "a = 15.476352489\n",
        "\n",
        "print (\"the approximate of\", a)\n",
        "for i in range(1, 9):\n",
        "    print(\"with\", i, \"decimals is\", round(a, i))"
      ],
      "metadata": {
        "colab": {
          "base_uri": "https://localhost:8080/"
        },
        "id": "ZZl1YVqHUmb5",
        "outputId": "dc6fd698-a97c-4920-fe67-e215deef05a6"
      },
      "execution_count": 28,
      "outputs": [
        {
          "output_type": "stream",
          "name": "stdout",
          "text": [
            "the approximate of 15.476352489\n",
            "with 1 decimals is 15.5\n",
            "with 2 decimals is 15.48\n",
            "with 3 decimals is 15.476\n",
            "with 4 decimals is 15.4764\n",
            "with 5 decimals is 15.47635\n",
            "with 6 decimals is 15.476352\n",
            "with 7 decimals is 15.4763525\n",
            "with 8 decimals is 15.47635249\n"
          ]
        }
      ]
    },
    {
      "cell_type": "code",
      "source": [
        "# Something\n",
        "W = 0\n"
      ],
      "metadata": {
        "id": "H3fc2Qu8XEqj"
      },
      "execution_count": 38,
      "outputs": []
    },
    {
      "cell_type": "code",
      "source": [
        "W += 2\n",
        "#Cada vez que corre le va sumando el numero\n"
      ],
      "metadata": {
        "id": "GiF63XNBXMv6"
      },
      "execution_count": 41,
      "outputs": []
    },
    {
      "cell_type": "markdown",
      "source": [
        "# **4. Naming**\n"
      ],
      "metadata": {
        "id": "PHm_oZtCYLnz"
      }
    },
    {
      "cell_type": "code",
      "source": [
        "# Example\n",
        "x = 39\n",
        "miedades= 39\n",
        "laedadquetengoyoes= 39\n",
        "miedad= 39"
      ],
      "metadata": {
        "id": "LnAj93YwYLJ7"
      },
      "execution_count": 43,
      "outputs": []
    },
    {
      "cell_type": "code",
      "source": [
        "#Mejor manera para poner nombre a una variable\n",
        "my_age = 23\n"
      ],
      "metadata": {
        "id": "RnxnQCKFY3HN"
      },
      "execution_count": 44,
      "outputs": []
    },
    {
      "cell_type": "markdown",
      "source": [
        "# **5. Data types**\n"
      ],
      "metadata": {
        "id": "qcqR3B4EZSBp"
      }
    },
    {
      "cell_type": "markdown",
      "source": [
        "# ** 5.1"
      ],
      "metadata": {
        "id": "-0us-3BZZhRm"
      }
    },
    {
      "cell_type": "markdown",
      "source": [
        "# **5.2 Floats**"
      ],
      "metadata": {
        "id": "Vp9igl0LZkMt"
      }
    },
    {
      "cell_type": "markdown",
      "source": [
        "## **5.3 Booleans**"
      ],
      "metadata": {
        "id": "MwuEhaE2ZpLe"
      }
    },
    {
      "cell_type": "code",
      "source": [
        "red_shirt = True\n"
      ],
      "metadata": {
        "id": "0q5Rchj_ZGjV"
      },
      "execution_count": 45,
      "outputs": []
    },
    {
      "cell_type": "markdown",
      "source": [
        "# **Boolean Expressions**"
      ],
      "metadata": {
        "id": "iYfoWSppZ99-"
      }
    },
    {
      "cell_type": "code",
      "source": [
        "x = 2\n",
        "y = 3\n",
        "print('x is less than y?', x < y)\n",
        "print('x is greater than y?', x > y)\n",
        "print('x is equal to y?', x == y)\n",
        "print('x is not equal to y?', x != y)\n",
        "print('x is less than or equal to y?', x <= y)\n",
        "print('x is greater than or equal to y?', x >= y)\n"
      ],
      "metadata": {
        "colab": {
          "base_uri": "https://localhost:8080/"
        },
        "id": "2r406ZQOaIZz",
        "outputId": "eaa2da24-7853-4101-bc98-d04b4b43fec9"
      },
      "execution_count": 49,
      "outputs": [
        {
          "output_type": "stream",
          "name": "stdout",
          "text": [
            "x is less than y? True\n",
            "x is greater than y? False\n",
            "x is equal to y? False\n",
            "x is not equal to y? True\n",
            "x is less than or equal to y? True\n",
            "x is greater than or equal to y? False\n"
          ]
        }
      ]
    },
    {
      "cell_type": "markdown",
      "source": [
        "# **Boolean Math**\n"
      ],
      "metadata": {
        "id": "EOee7VHibQIl"
      }
    },
    {
      "cell_type": "code",
      "source": [
        "# SE condiciona dependediendo lo que uno quiera\n",
        "red_shirt = True\n",
        "blue_shirt = False\n",
        "print(red_shirt + blue_shirt)"
      ],
      "metadata": {
        "colab": {
          "base_uri": "https://localhost:8080/"
        },
        "id": "SIm6tF2DaJyH",
        "outputId": "51beed3f-0ae9-4f15-928e-d38378dbb3c3"
      },
      "execution_count": 51,
      "outputs": [
        {
          "output_type": "stream",
          "name": "stdout",
          "text": [
            "1\n"
          ]
        }
      ]
    },
    {
      "cell_type": "markdown",
      "source": [
        "## 5.4. String"
      ],
      "metadata": {
        "id": "0vwWK1lZcyJI"
      }
    },
    {
      "cell_type": "code",
      "source": [
        "# Example\n",
        "x= \"Universidad de la salle\"\n",
        "print(x)\n"
      ],
      "metadata": {
        "colab": {
          "base_uri": "https://localhost:8080/"
        },
        "id": "8X1ZaitXc3vT",
        "outputId": "3f1c6090-d97b-4c58-87d6-d823bae7264a"
      },
      "execution_count": 55,
      "outputs": [
        {
          "output_type": "stream",
          "name": "stdout",
          "text": [
            "Universidad de la salle\n"
          ]
        }
      ]
    },
    {
      "cell_type": "markdown",
      "source": [
        "### Index\n"
      ],
      "metadata": {
        "id": "o3U5uu2CdYjY"
      }
    },
    {
      "cell_type": "code",
      "source": [
        "# Example\n",
        "print(\"the frst element of x is:\", x[0])\n",
        "print(\"the last element of x is:\", x[-1])\n"
      ],
      "metadata": {
        "colab": {
          "base_uri": "https://localhost:8080/"
        },
        "id": "Kk5D5zX_dcQo",
        "outputId": "19f2291d-eed0-4312-a0de-905fe31c9db6"
      },
      "execution_count": 57,
      "outputs": [
        {
          "output_type": "stream",
          "name": "stdout",
          "text": [
            "the frst element of x is: U\n",
            "the last element of x is: e\n"
          ]
        }
      ]
    },
    {
      "cell_type": "code",
      "source": [
        "# Example\n",
        "print(\"the second element of x is:\", x[1])\n",
        "print(\"the second to last element of x is:\", x[-2])"
      ],
      "metadata": {
        "colab": {
          "base_uri": "https://localhost:8080/"
        },
        "id": "q2C7PSXueD6a",
        "outputId": "613c7fc1-2869-49d6-cc5b-c1ee55df40b5"
      },
      "execution_count": 58,
      "outputs": [
        {
          "output_type": "stream",
          "name": "stdout",
          "text": [
            "the second element of x is: n\n",
            "the second to last element of x is: l\n"
          ]
        }
      ]
    },
    {
      "cell_type": "code",
      "source": [
        "# Example\n",
        "print(\"the first word of x is:\", x[0:11])\n"
      ],
      "metadata": {
        "colab": {
          "base_uri": "https://localhost:8080/"
        },
        "id": "AJI_zg92fM3A",
        "outputId": "b6078e83-0ea6-429c-f2b8-573a9e92707d"
      },
      "execution_count": 59,
      "outputs": [
        {
          "output_type": "stream",
          "name": "stdout",
          "text": [
            "the first word of x is: Universidad\n"
          ]
        }
      ]
    },
    {
      "cell_type": "markdown",
      "source": [
        "## Methods"
      ],
      "metadata": {
        "id": "MsSxTeJZbBbt"
      }
    },
    {
      "cell_type": "code",
      "source": [
        "# Upper case\n",
        "x.upper()"
      ],
      "metadata": {
        "colab": {
          "base_uri": "https://localhost:8080/",
          "height": 35
        },
        "id": "a-3_ieDrfnE3",
        "outputId": "833d0a8d-4284-4a8d-dc35-556a37be0e9b"
      },
      "execution_count": 61,
      "outputs": [
        {
          "output_type": "execute_result",
          "data": {
            "text/plain": [
              "'UNIVERSIDAD DE LA SALLE'"
            ],
            "application/vnd.google.colaboratory.intrinsic+json": {
              "type": "string"
            }
          },
          "metadata": {},
          "execution_count": 61
        }
      ]
    },
    {
      "cell_type": "code",
      "source": [
        "# Lower case\n",
        "x.lower()\n"
      ],
      "metadata": {
        "colab": {
          "base_uri": "https://localhost:8080/",
          "height": 35
        },
        "id": "DhfHrHD4fs2n",
        "outputId": "99514d42-5ee4-4ac8-ccbe-f58e1b8b64ad"
      },
      "execution_count": 63,
      "outputs": [
        {
          "output_type": "execute_result",
          "data": {
            "text/plain": [
              "'universidad de la salle'"
            ],
            "application/vnd.google.colaboratory.intrinsic+json": {
              "type": "string"
            }
          },
          "metadata": {},
          "execution_count": 63
        }
      ]
    },
    {
      "cell_type": "code",
      "source": [
        "# Replace\n",
        "nx = x.replace(' ', '_')\n",
        "print(nx)"
      ],
      "metadata": {
        "colab": {
          "base_uri": "https://localhost:8080/"
        },
        "id": "11j7TlBXf3W7",
        "outputId": "e05bd7f9-5633-4feb-9a42-82d502de6c81"
      },
      "execution_count": 65,
      "outputs": [
        {
          "output_type": "stream",
          "name": "stdout",
          "text": [
            "Universidad_de_la_salle\n"
          ]
        }
      ]
    },
    {
      "cell_type": "markdown",
      "source": [],
      "metadata": {
        "id": "AyHMnTisfgjS"
      }
    }
  ]
}
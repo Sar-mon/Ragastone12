{
  "nbformat": 4,
  "nbformat_minor": 0,
  "metadata": {
    "colab": {
      "provenance": [],
      "include_colab_link": true
    },
    "kernelspec": {
      "name": "python3",
      "display_name": "Python 3"
    },
    "language_info": {
      "name": "python"
    }
  },
  "cells": [
    {
      "cell_type": "markdown",
      "metadata": {
        "id": "view-in-github",
        "colab_type": "text"
      },
      "source": [
        "<a href=\"https://colab.research.google.com/github/Sar-mon/Ragastone12/blob/main/Workshop_2_ipynb_Sara_Moncada.ipynb\" target=\"_parent\"><img src=\"https://colab.research.google.com/assets/colab-badge.svg\" alt=\"Open In Colab\"/></a>"
      ]
    },
    {
      "cell_type": "markdown",
      "source": [
        "<h1 align = \"center\">\n",
        "<strong> Universidad de La Salle </strong>\n",
        "</h1>\n",
        "\n",
        "<h1 align = \"center\">\n",
        "<strong> Finance and International Commerce Program </strong>\n",
        "</h1>\n",
        "\n",
        "<h1 align = \"center\">\n",
        "<strong> Data Visualization - Workshop 2 </strong>\n",
        "</h1>\n",
        "\n",
        "## SARA MONCADA"
      ],
      "metadata": {
        "id": "BJolccUZSw9G"
      }
    },
    {
      "cell_type": "markdown",
      "source": [
        "# **Exercise**\n",
        "\n",
        "**Roulette!**\n",
        "\n",
        "Let's simulate a casino game.\n",
        "Specifically, a single-zero (french) roulette.\n",
        "\n",
        "This game consists on rolling a ball over a wheel with number pockets.\n",
        "\n",
        "[Game](https://image.shutterstock.com/image-illustration/casino-roulette-wheel-chips-on-600w-1288790665.jpg)\n",
        "\n",
        "There are several ways to bet on this game, you have to code a few."
      ],
      "metadata": {
        "id": "2kRoSKUmaGl9"
      }
    },
    {
      "cell_type": "code",
      "source": [
        "import numpy as np"
      ],
      "metadata": {
        "id": "8lMuVMe0iwhw"
      },
      "execution_count": null,
      "outputs": []
    },
    {
      "cell_type": "markdown",
      "source": [
        "## Ex 1 - Number Bet\n",
        "\n",
        "You can bet on any number between 0 and 36.\n",
        "You win if the result is the number you bet on.\n",
        "In any other case, you lose.\n",
        "\n",
        "Write the appropiate the code to reflect this process.\n",
        "\n",
        "The result must show the bet made, the result obtained and if you win or lose."
      ],
      "metadata": {
        "id": "PYIRNu3imJ_n"
      }
    },
    {
      "cell_type": "code",
      "source": [
        "# Answ. Ex 1\n",
        "# (write your code below)\n",
        "\n",
        "# Answ. Ex 1\n",
        "# (write your code below)\n",
        "\n",
        "## Present the result according to:\n",
        "\n",
        "## Bet Number = 12\n",
        "## 1. If I get the number 12. WIN\n",
        "## 2. If I get any number other than 12 up to 36. LOSE\n",
        "\n",
        "# The roulette has numbers from 0 to 36.\n",
        "toss = np.random.randint(0, 37)\n",
        "\n",
        "if toss == 12:\n",
        "    print(\"Congratulations You have won!\")\n",
        "    print(\"You have bet on 12\")\n",
        "else:\n",
        "    print(f\"Sorry, you bet on {12} and the result was {toss}. You lost.\")"
      ],
      "metadata": {
        "id": "yR2JW85L5fOn",
        "outputId": "6fad958b-7278-4941-9978-adc5213d6314",
        "colab": {
          "base_uri": "https://localhost:8080/"
        }
      },
      "execution_count": null,
      "outputs": [
        {
          "output_type": "stream",
          "name": "stdout",
          "text": [
            "Sorry, you bet on 12 and the result was 2. You lost.\n"
          ]
        }
      ]
    },
    {
      "cell_type": "markdown",
      "source": [
        "## Ex 2 - Color Bet\n",
        "\n",
        "Each color has an associated color. Zero is neutral.\n",
        "\n",
        "And the rest of the numbers vary between black and red (see the previous image).\n",
        "\n",
        "Write the appropiate code to simulate a random round of Roulette using only the color bet (black or red).\n",
        "\n",
        "The result must show the bet made, the result obtained and if you win or lose.\n",
        "\n",
        "*Tip: first define when you lose and when you win.*"
      ],
      "metadata": {
        "id": "LAdWe8iEaL7B"
      }
    },
    {
      "cell_type": "code",
      "source": [
        "\n",
        "\n",
        "def roulette_color_bet():\n",
        "    \"\"\"Simulates a roulette round with a color bet.\"\"\"\n",
        "\n",
        "    # Get the player's bet\n",
        "    while True:\n",
        "        bet = input(\"Place your bet (black or red): \").lower()\n",
        "        if bet in (\"black\", \"red\"):\n",
        "            break\n",
        "        else:\n",
        "            print(\"Invalid bet. Please choose 'black' or 'red'.\")\n",
        "\n",
        "    # Generate a random number between 0 and 36 (inclusive)\n",
        "    number = random.randint(0, 36)\n",
        "\n",
        "    # Determine the color of the number\n",
        "    if number == 0:\n",
        "        color = \"green\"\n",
        "    elif number % 2 == 0:\n",
        "        color = \"black\"\n",
        "    else:\n",
        "        color = \"red\"\n",
        "\n",
        "    # Determine if the player won or lost\n",
        "    if color == bet:\n",
        "        print(f\"The result is {color} ({number}). You win!\")\n",
        "    elif color == \"green\":\n",
        "        print(f\"The result is {color} ({number}). You lose! (0 is neutral)\")\n",
        "    else:\n",
        "        print(f\"The result is {color} ({number}). You lose!\")\n",
        "\n",
        "# Call the function to start the game\n",
        "roulette_color_bet()"
      ],
      "metadata": {
        "colab": {
          "base_uri": "https://localhost:8080/"
        },
        "id": "N2QtGQSCByjq",
        "outputId": "cd07f331-dda8-4280-cca0-c4ea953b3417"
      },
      "execution_count": null,
      "outputs": [
        {
          "output_type": "stream",
          "name": "stdout",
          "text": [
            "Place your bet (black or red): black\n",
            "The result is red (21). You lose!\n"
          ]
        }
      ]
    },
    {
      "cell_type": "markdown",
      "source": [
        "## Ex 3 - Dozens Bet\n",
        "\n",
        "Given the 3 groups:\n",
        "\n",
        "A -> numbers between 1 and 12.\n",
        "B -> numbers between 13 and 24.\n",
        "C -> numbers between 25 and 36.\n",
        "\n",
        "Write the appropiate code to print the result of betting exclusively with dozens.\n",
        "\n",
        "The result must show the bet made, the result obtained and if you win or lose.\n",
        "\n",
        "*Tip: Note that zero is not in the groups but it is a possible result.*"
      ],
      "metadata": {
        "id": "YFsGiwcNfgzP"
      }
    },
    {
      "cell_type": "code",
      "source": [
        "# Answ. Ex 3\n",
        "# (write your code below)\n",
        "import random  # Import the random module\n",
        "\n",
        "# Get the player's bet\n",
        "bet = input(\"Place your bet (A, B, or C): \").upper()\n",
        "\n",
        "# Generate a random number between 0 and 36 (inclusive)\n",
        "result = random.randint(0, 36)  # This line generates a random integer\n",
        "\n",
        "# Determine if the player won or lost\n",
        "if result == 0:\n",
        "    print(f\"The result is 0. You lose!\")\n",
        "elif 1 <= result <= 12 and bet == \"A\":\n",
        "    print(f\"The result is {result}. You win!\")\n",
        "elif 13 <= result <= 24 and bet == \"B\":\n",
        "    print(f\"The result is {result}. You win!\")\n",
        "elif 25 <= result <= 36 and bet == \"C\":\n",
        "    print(f\"The result is {result}. You win!\")\n",
        "else:\n",
        "    print(f\"The result is {result}. You lose!\")"
      ],
      "metadata": {
        "colab": {
          "base_uri": "https://localhost:8080/"
        },
        "id": "HAMTPn88BcHQ",
        "outputId": "b6b4d3cd-5efd-453f-b86d-ad137ac757e2"
      },
      "execution_count": null,
      "outputs": [
        {
          "output_type": "stream",
          "name": "stdout",
          "text": [
            "Place your bet (A, B, or C): a\n",
            "The result is 9. You win!\n"
          ]
        }
      ]
    },
    {
      "cell_type": "markdown",
      "source": [
        "## Ex 4 - Putting everything together\n",
        "\n",
        "Write the code that simulate a random game of Roulette where the person can bet on: Number, Color, Dozen or any combination she or he wants.\n",
        "\n",
        "The result must show the bet made, the result obtained and if you win or lose."
      ],
      "metadata": {
        "id": "RSyiV1UPlVcJ"
      }
    },
    {
      "cell_type": "code",
      "source": [
        "# Answ. Ex 4\n",
        "# (write your code below)\n",
        "\n",
        "\n",
        "\n",
        "def roulette_game():\n",
        "    \"\"\"Simulates a roulette game with multiple betting options.\"\"\"\n",
        "\n",
        "    # Get the player's bets\n",
        "    bets = {}\n",
        "    while True:\n",
        "        bet_type = input(\"Enter bet type (number, color, dozen, done): \").lower()\n",
        "        if bet_type == \"done\":\n",
        "            break\n",
        "\n",
        "        if bet_type == \"number\":\n",
        "            number_bet = int(input(\"Enter number to bet on (0-36): \"))\n",
        "            bets[\"number\"] = number_bet\n",
        "        elif bet_type == \"color\":\n",
        "            color_bet = input(\"Enter color to bet on (black or red): \").lower()\n",
        "            bets[\"color\"] = color_bet\n",
        "        elif bet_type == \"dozen\":\n",
        "            dozen_bet = int(input(\"Enter dozen to bet on (1, 2, or 3): \"))\n",
        "            bets[\"dozen\"] = dozen_bet\n",
        "        else:\n",
        "            print(\"Invalid bet type. Please choose from number, color, dozen, or done.\")\n",
        "\n",
        "    # Generate a random number between 0 and 36 (inclusive)\n",
        "    number = random.randint(0, 36)\n",
        "\n",
        "    # Determine the color of the number\n",
        "    if number == 0:\n",
        "        color = \"green\"\n",
        "    elif number % 2 == 0:\n",
        "        color = \"black\"\n",
        "    else:\n",
        "        color = \"red\"\n",
        "\n",
        "    # Determine the dozen of the number\n",
        "    dozen = (number - 1) // 12 + 1 if number != 0 else 0\n",
        "\n",
        "    # Check if the player won any bets\n",
        "    win = False\n",
        "    for bet_type, bet_value in bets.items():\n",
        "        if bet_type == \"number\" and bet_value == number:\n",
        "            win = True\n",
        "            print(f\"You won your number bet on {number}!\")\n",
        "        elif bet_type == \"color\" and bet_value == color:\n",
        "            win = True\n",
        "            print(f\"You won your color bet on {color}!\")\n"
      ],
      "metadata": {
        "id": "FQU_vc_5sse0"
      },
      "execution_count": null,
      "outputs": []
    }
  ]
}
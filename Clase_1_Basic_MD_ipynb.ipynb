{
  "nbformat": 4,
  "nbformat_minor": 0,
  "metadata": {
    "colab": {
      "provenance": [],
      "toc_visible": true,
      "authorship_tag": "ABX9TyPXLA1rzr7zg8YQwb4z889E",
      "include_colab_link": true
    },
    "kernelspec": {
      "name": "python3",
      "display_name": "Python 3"
    },
    "language_info": {
      "name": "python"
    }
  },
  "cells": [
    {
      "cell_type": "markdown",
      "metadata": {
        "id": "view-in-github",
        "colab_type": "text"
      },
      "source": [
        "<a href=\"https://colab.research.google.com/github/Sar-mon/Ragastone12/blob/main/Clase_1_Basic_MD_ipynb.ipynb\" target=\"_parent\"><img src=\"https://colab.research.google.com/assets/colab-badge.svg\" alt=\"Open In Colab\"/></a>"
      ]
    },
    {
      "cell_type": "markdown",
      "source": [
        "# Título"
      ],
      "metadata": {
        "id": "IaniAK7BGT6o"
      }
    },
    {
      "cell_type": "markdown",
      "source": [
        "## Subtítulo"
      ],
      "metadata": {
        "id": "PJwvK9YlGq1f"
      }
    },
    {
      "cell_type": "markdown",
      "source": [
        "If you run into problems, please contact support by visiting"
      ],
      "metadata": {
        "id": "y4gqMzDKG0n6"
      }
    },
    {
      "cell_type": "markdown",
      "source": [
        "# Text Formating"
      ],
      "metadata": {
        "id": "Hg4ra_qPHZFC"
      }
    },
    {
      "cell_type": "markdown",
      "source": [
        "## Bold\n",
        "\n",
        "** Sara Ximena Moncada Gonzalez**\n"
      ],
      "metadata": {
        "id": "VstwRTbLHkUT"
      }
    },
    {
      "cell_type": "markdown",
      "source": [
        "## Italics\n",
        "\n",
        "*Sara Moncada*"
      ],
      "metadata": {
        "id": "KTIM_wDhH8-s"
      }
    },
    {
      "cell_type": "markdown",
      "source": [
        "## Combine\n",
        "\n",
        "***Sara Moncada***\n"
      ],
      "metadata": {
        "id": "BkkQg2XNINkN"
      }
    },
    {
      "cell_type": "markdown",
      "source": [
        "## Underline\n",
        "\n",
        "With Marckdonw it cannot to done... but <u>Este texto estará subrayado</u>\n",
        "\n"
      ],
      "metadata": {
        "id": "hIhE78XcId-W"
      }
    },
    {
      "cell_type": "markdown",
      "source": [
        "## Change color and font\n",
        "\n",
        "<font color=\"red\" face=\"Times\" size= \"20\">Este texto es rojo y en Arial</font>"
      ],
      "metadata": {
        "id": "DGGYmAYxJrRA"
      }
    },
    {
      "cell_type": "code",
      "execution_count": null,
      "metadata": {
        "id": "My6k2nQdDWbk"
      },
      "outputs": [],
      "source": []
    }
  ]
}